{
 "cells": [
  {
   "cell_type": "markdown",
   "id": "f745b79a",
   "metadata": {},
   "source": [
    "# Import library"
   ]
  },
  {
   "cell_type": "code",
   "execution_count": 1,
   "id": "7afb8830",
   "metadata": {},
   "outputs": [],
   "source": [
    "import pandas as pd\n",
    "import seaborn as sns\n",
    "import numpy as np\n",
    "import joblib\n",
    "from sklearn.model_selection import train_test_split\n",
    "from sklearn.tree import DecisionTreeClassifier\n",
    "from sklearn.metrics import classification_report, confusion_matrix"
   ]
  },
  {
   "cell_type": "markdown",
   "id": "041c026b",
   "metadata": {},
   "source": [
    "# Import Dataset "
   ]
  },
  {
   "cell_type": "code",
   "execution_count": 2,
   "id": "3244862a",
   "metadata": {},
   "outputs": [
    {
     "data": {
      "text/html": [
       "<div>\n",
       "<style scoped>\n",
       "    .dataframe tbody tr th:only-of-type {\n",
       "        vertical-align: middle;\n",
       "    }\n",
       "\n",
       "    .dataframe tbody tr th {\n",
       "        vertical-align: top;\n",
       "    }\n",
       "\n",
       "    .dataframe thead th {\n",
       "        text-align: right;\n",
       "    }\n",
       "</style>\n",
       "<table border=\"1\" class=\"dataframe\">\n",
       "  <thead>\n",
       "    <tr style=\"text-align: right;\">\n",
       "      <th></th>\n",
       "      <th>No</th>\n",
       "      <th>NIM</th>\n",
       "      <th>nama_mahasiswa</th>\n",
       "      <th>UTS</th>\n",
       "      <th>UAS</th>\n",
       "      <th>tugasonline</th>\n",
       "      <th>quizonline</th>\n",
       "      <th>NA</th>\n",
       "      <th>nilai_akhir</th>\n",
       "      <th>grade</th>\n",
       "      <th>ket</th>\n",
       "    </tr>\n",
       "  </thead>\n",
       "  <tbody>\n",
       "    <tr>\n",
       "      <th>0</th>\n",
       "      <td>1</td>\n",
       "      <td>20170801075</td>\n",
       "      <td>Windu Fajar Sukmawan</td>\n",
       "      <td>0.0</td>\n",
       "      <td>4.0</td>\n",
       "      <td>42.5</td>\n",
       "      <td>77.14</td>\n",
       "      <td>30.91</td>\n",
       "      <td>0.0</td>\n",
       "      <td>E</td>\n",
       "      <td>TL</td>\n",
       "    </tr>\n",
       "    <tr>\n",
       "      <th>1</th>\n",
       "      <td>2</td>\n",
       "      <td>20180801248</td>\n",
       "      <td>Dimas Mulia Hafiz</td>\n",
       "      <td>20.0</td>\n",
       "      <td>5.0</td>\n",
       "      <td>60.9</td>\n",
       "      <td>41.43</td>\n",
       "      <td>31.83</td>\n",
       "      <td>0.0</td>\n",
       "      <td>E</td>\n",
       "      <td>TL</td>\n",
       "    </tr>\n",
       "    <tr>\n",
       "      <th>2</th>\n",
       "      <td>3</td>\n",
       "      <td>20180801422</td>\n",
       "      <td>Abdur Rohman</td>\n",
       "      <td>20.0</td>\n",
       "      <td>0.0</td>\n",
       "      <td>30.4</td>\n",
       "      <td>62.86</td>\n",
       "      <td>28.32</td>\n",
       "      <td>0.0</td>\n",
       "      <td>E</td>\n",
       "      <td>TL</td>\n",
       "    </tr>\n",
       "    <tr>\n",
       "      <th>3</th>\n",
       "      <td>4</td>\n",
       "      <td>20180801467</td>\n",
       "      <td>Nadia</td>\n",
       "      <td>80.0</td>\n",
       "      <td>85.0</td>\n",
       "      <td>70.8</td>\n",
       "      <td>100.00</td>\n",
       "      <td>83.95</td>\n",
       "      <td>4.0</td>\n",
       "      <td>A</td>\n",
       "      <td>L</td>\n",
       "    </tr>\n",
       "    <tr>\n",
       "      <th>4</th>\n",
       "      <td>5</td>\n",
       "      <td>20180801475</td>\n",
       "      <td>Siti Ambarwati</td>\n",
       "      <td>80.0</td>\n",
       "      <td>85.0</td>\n",
       "      <td>76.2</td>\n",
       "      <td>92.86</td>\n",
       "      <td>83.52</td>\n",
       "      <td>4.0</td>\n",
       "      <td>A</td>\n",
       "      <td>L</td>\n",
       "    </tr>\n",
       "  </tbody>\n",
       "</table>\n",
       "</div>"
      ],
      "text/plain": [
       "   No          NIM        nama_mahasiswa   UTS   UAS  tugasonline  quizonline  \\\n",
       "0   1  20170801075  Windu Fajar Sukmawan   0.0   4.0         42.5       77.14   \n",
       "1   2  20180801248     Dimas Mulia Hafiz  20.0   5.0         60.9       41.43   \n",
       "2   3  20180801422          Abdur Rohman  20.0   0.0         30.4       62.86   \n",
       "3   4  20180801467                 Nadia  80.0  85.0         70.8      100.00   \n",
       "4   5  20180801475        Siti Ambarwati  80.0  85.0         76.2       92.86   \n",
       "\n",
       "      NA  nilai_akhir grade ket  \n",
       "0  30.91          0.0     E  TL  \n",
       "1  31.83          0.0     E  TL  \n",
       "2  28.32          0.0     E  TL  \n",
       "3  83.95          4.0     A   L  \n",
       "4  83.52          4.0     A   L  "
      ]
     },
     "execution_count": 2,
     "metadata": {},
     "output_type": "execute_result"
    }
   ],
   "source": [
    "# import data\n",
    "data = pd.read_csv(\"data_dummy.csv\")\n",
    "data.head()"
   ]
  },
  {
   "cell_type": "markdown",
   "id": "ddac3b16",
   "metadata": {},
   "source": [
    "# Data Exploration"
   ]
  },
  {
   "cell_type": "code",
   "execution_count": 3,
   "id": "4d39e52a",
   "metadata": {},
   "outputs": [
    {
     "data": {
      "text/html": [
       "<div>\n",
       "<style scoped>\n",
       "    .dataframe tbody tr th:only-of-type {\n",
       "        vertical-align: middle;\n",
       "    }\n",
       "\n",
       "    .dataframe tbody tr th {\n",
       "        vertical-align: top;\n",
       "    }\n",
       "\n",
       "    .dataframe thead th {\n",
       "        text-align: right;\n",
       "    }\n",
       "</style>\n",
       "<table border=\"1\" class=\"dataframe\">\n",
       "  <thead>\n",
       "    <tr style=\"text-align: right;\">\n",
       "      <th></th>\n",
       "      <th>UTS</th>\n",
       "      <th>tugasonline</th>\n",
       "      <th>quizonline</th>\n",
       "      <th>ket</th>\n",
       "    </tr>\n",
       "  </thead>\n",
       "  <tbody>\n",
       "    <tr>\n",
       "      <th>0</th>\n",
       "      <td>0.0</td>\n",
       "      <td>42.5</td>\n",
       "      <td>77.14</td>\n",
       "      <td>TL</td>\n",
       "    </tr>\n",
       "    <tr>\n",
       "      <th>1</th>\n",
       "      <td>20.0</td>\n",
       "      <td>60.9</td>\n",
       "      <td>41.43</td>\n",
       "      <td>TL</td>\n",
       "    </tr>\n",
       "    <tr>\n",
       "      <th>2</th>\n",
       "      <td>20.0</td>\n",
       "      <td>30.4</td>\n",
       "      <td>62.86</td>\n",
       "      <td>TL</td>\n",
       "    </tr>\n",
       "    <tr>\n",
       "      <th>3</th>\n",
       "      <td>80.0</td>\n",
       "      <td>70.8</td>\n",
       "      <td>100.00</td>\n",
       "      <td>L</td>\n",
       "    </tr>\n",
       "    <tr>\n",
       "      <th>4</th>\n",
       "      <td>80.0</td>\n",
       "      <td>76.2</td>\n",
       "      <td>92.86</td>\n",
       "      <td>L</td>\n",
       "    </tr>\n",
       "    <tr>\n",
       "      <th>...</th>\n",
       "      <td>...</td>\n",
       "      <td>...</td>\n",
       "      <td>...</td>\n",
       "      <td>...</td>\n",
       "    </tr>\n",
       "    <tr>\n",
       "      <th>115</th>\n",
       "      <td>75.1</td>\n",
       "      <td>74.0</td>\n",
       "      <td>70.00</td>\n",
       "      <td>L</td>\n",
       "    </tr>\n",
       "    <tr>\n",
       "      <th>116</th>\n",
       "      <td>76.7</td>\n",
       "      <td>85.0</td>\n",
       "      <td>80.00</td>\n",
       "      <td>L</td>\n",
       "    </tr>\n",
       "    <tr>\n",
       "      <th>117</th>\n",
       "      <td>77.1</td>\n",
       "      <td>74.0</td>\n",
       "      <td>70.00</td>\n",
       "      <td>L</td>\n",
       "    </tr>\n",
       "    <tr>\n",
       "      <th>118</th>\n",
       "      <td>58.0</td>\n",
       "      <td>76.0</td>\n",
       "      <td>75.00</td>\n",
       "      <td>L</td>\n",
       "    </tr>\n",
       "    <tr>\n",
       "      <th>119</th>\n",
       "      <td>79.0</td>\n",
       "      <td>76.0</td>\n",
       "      <td>75.00</td>\n",
       "      <td>L</td>\n",
       "    </tr>\n",
       "  </tbody>\n",
       "</table>\n",
       "<p>120 rows × 4 columns</p>\n",
       "</div>"
      ],
      "text/plain": [
       "      UTS  tugasonline  quizonline ket\n",
       "0     0.0         42.5       77.14  TL\n",
       "1    20.0         60.9       41.43  TL\n",
       "2    20.0         30.4       62.86  TL\n",
       "3    80.0         70.8      100.00   L\n",
       "4    80.0         76.2       92.86   L\n",
       "..    ...          ...         ...  ..\n",
       "115  75.1         74.0       70.00   L\n",
       "116  76.7         85.0       80.00   L\n",
       "117  77.1         74.0       70.00   L\n",
       "118  58.0         76.0       75.00   L\n",
       "119  79.0         76.0       75.00   L\n",
       "\n",
       "[120 rows x 4 columns]"
      ]
     },
     "execution_count": 3,
     "metadata": {},
     "output_type": "execute_result"
    }
   ],
   "source": [
    "# menggunakan df sebagai data split dari data\n",
    "df = data[['UTS', 'tugasonline', 'quizonline','ket']]\n",
    "df"
   ]
  },
  {
   "cell_type": "code",
   "execution_count": 4,
   "id": "cd713c67",
   "metadata": {},
   "outputs": [
    {
     "name": "stderr",
     "output_type": "stream",
     "text": [
      "C:\\Users\\Caren\\AppData\\Local\\Temp\\ipykernel_15392\\2846058792.py:8: SettingWithCopyWarning: \n",
      "A value is trying to be set on a copy of a slice from a DataFrame.\n",
      "Try using .loc[row_indexer,col_indexer] = value instead\n",
      "\n",
      "See the caveats in the documentation: https://pandas.pydata.org/pandas-docs/stable/user_guide/indexing.html#returning-a-view-versus-a-copy\n",
      "  df['ket'] = enc.fit_transform(df['ket'].values)\n"
     ]
    },
    {
     "data": {
      "text/html": [
       "<div>\n",
       "<style scoped>\n",
       "    .dataframe tbody tr th:only-of-type {\n",
       "        vertical-align: middle;\n",
       "    }\n",
       "\n",
       "    .dataframe tbody tr th {\n",
       "        vertical-align: top;\n",
       "    }\n",
       "\n",
       "    .dataframe thead th {\n",
       "        text-align: right;\n",
       "    }\n",
       "</style>\n",
       "<table border=\"1\" class=\"dataframe\">\n",
       "  <thead>\n",
       "    <tr style=\"text-align: right;\">\n",
       "      <th></th>\n",
       "      <th>UTS</th>\n",
       "      <th>tugasonline</th>\n",
       "      <th>quizonline</th>\n",
       "      <th>ket</th>\n",
       "    </tr>\n",
       "  </thead>\n",
       "  <tbody>\n",
       "    <tr>\n",
       "      <th>0</th>\n",
       "      <td>0.0</td>\n",
       "      <td>42.5</td>\n",
       "      <td>77.14</td>\n",
       "      <td>1</td>\n",
       "    </tr>\n",
       "    <tr>\n",
       "      <th>1</th>\n",
       "      <td>20.0</td>\n",
       "      <td>60.9</td>\n",
       "      <td>41.43</td>\n",
       "      <td>1</td>\n",
       "    </tr>\n",
       "    <tr>\n",
       "      <th>2</th>\n",
       "      <td>20.0</td>\n",
       "      <td>30.4</td>\n",
       "      <td>62.86</td>\n",
       "      <td>1</td>\n",
       "    </tr>\n",
       "    <tr>\n",
       "      <th>3</th>\n",
       "      <td>80.0</td>\n",
       "      <td>70.8</td>\n",
       "      <td>100.00</td>\n",
       "      <td>0</td>\n",
       "    </tr>\n",
       "    <tr>\n",
       "      <th>4</th>\n",
       "      <td>80.0</td>\n",
       "      <td>76.2</td>\n",
       "      <td>92.86</td>\n",
       "      <td>0</td>\n",
       "    </tr>\n",
       "    <tr>\n",
       "      <th>...</th>\n",
       "      <td>...</td>\n",
       "      <td>...</td>\n",
       "      <td>...</td>\n",
       "      <td>...</td>\n",
       "    </tr>\n",
       "    <tr>\n",
       "      <th>115</th>\n",
       "      <td>75.1</td>\n",
       "      <td>74.0</td>\n",
       "      <td>70.00</td>\n",
       "      <td>0</td>\n",
       "    </tr>\n",
       "    <tr>\n",
       "      <th>116</th>\n",
       "      <td>76.7</td>\n",
       "      <td>85.0</td>\n",
       "      <td>80.00</td>\n",
       "      <td>0</td>\n",
       "    </tr>\n",
       "    <tr>\n",
       "      <th>117</th>\n",
       "      <td>77.1</td>\n",
       "      <td>74.0</td>\n",
       "      <td>70.00</td>\n",
       "      <td>0</td>\n",
       "    </tr>\n",
       "    <tr>\n",
       "      <th>118</th>\n",
       "      <td>58.0</td>\n",
       "      <td>76.0</td>\n",
       "      <td>75.00</td>\n",
       "      <td>0</td>\n",
       "    </tr>\n",
       "    <tr>\n",
       "      <th>119</th>\n",
       "      <td>79.0</td>\n",
       "      <td>76.0</td>\n",
       "      <td>75.00</td>\n",
       "      <td>0</td>\n",
       "    </tr>\n",
       "  </tbody>\n",
       "</table>\n",
       "<p>120 rows × 4 columns</p>\n",
       "</div>"
      ],
      "text/plain": [
       "      UTS  tugasonline  quizonline  ket\n",
       "0     0.0         42.5       77.14    1\n",
       "1    20.0         60.9       41.43    1\n",
       "2    20.0         30.4       62.86    1\n",
       "3    80.0         70.8      100.00    0\n",
       "4    80.0         76.2       92.86    0\n",
       "..    ...          ...         ...  ...\n",
       "115  75.1         74.0       70.00    0\n",
       "116  76.7         85.0       80.00    0\n",
       "117  77.1         74.0       70.00    0\n",
       "118  58.0         76.0       75.00    0\n",
       "119  79.0         76.0       75.00    0\n",
       "\n",
       "[120 rows x 4 columns]"
      ]
     },
     "execution_count": 4,
     "metadata": {},
     "output_type": "execute_result"
    }
   ],
   "source": [
    "# mengganti labeling dengan label encoder \n",
    "# 1 untuk tidak lulus\n",
    "# 0 untuk lulus\n",
    "from sklearn.preprocessing import LabelEncoder\n",
    "\n",
    "enc = LabelEncoder()\n",
    "\n",
    "df['ket'] = enc.fit_transform(df['ket'].values)\n",
    "df"
   ]
  },
  {
   "cell_type": "code",
   "execution_count": 5,
   "id": "279a7245",
   "metadata": {},
   "outputs": [
    {
     "data": {
      "text/plain": [
       "UTS            1\n",
       "tugasonline    2\n",
       "quizonline     1\n",
       "ket            0\n",
       "dtype: int64"
      ]
     },
     "execution_count": 5,
     "metadata": {},
     "output_type": "execute_result"
    }
   ],
   "source": [
    "# cek data yang mempunyai missing value\n",
    "df.isna().sum()"
   ]
  },
  {
   "cell_type": "code",
   "execution_count": 6,
   "id": "baeaf680",
   "metadata": {},
   "outputs": [
    {
     "name": "stderr",
     "output_type": "stream",
     "text": [
      "C:\\Users\\Caren\\AppData\\Local\\Temp\\ipykernel_15392\\2849400978.py:2: SettingWithCopyWarning: \n",
      "A value is trying to be set on a copy of a slice from a DataFrame\n",
      "\n",
      "See the caveats in the documentation: https://pandas.pydata.org/pandas-docs/stable/user_guide/indexing.html#returning-a-view-versus-a-copy\n",
      "  df.dropna(inplace=True)\n"
     ]
    },
    {
     "data": {
      "text/plain": [
       "UTS            0\n",
       "tugasonline    0\n",
       "quizonline     0\n",
       "ket            0\n",
       "dtype: int64"
      ]
     },
     "execution_count": 6,
     "metadata": {},
     "output_type": "execute_result"
    }
   ],
   "source": [
    "# menghapus missing value \n",
    "df.dropna(inplace=True)\n",
    "df.isna().sum()"
   ]
  },
  {
   "cell_type": "code",
   "execution_count": 7,
   "id": "0ef02184",
   "metadata": {},
   "outputs": [
    {
     "name": "stdout",
     "output_type": "stream",
     "text": [
      "<class 'pandas.core.frame.DataFrame'>\n",
      "Int64Index: 118 entries, 0 to 119\n",
      "Data columns (total 4 columns):\n",
      " #   Column       Non-Null Count  Dtype  \n",
      "---  ------       --------------  -----  \n",
      " 0   UTS          118 non-null    float64\n",
      " 1   tugasonline  118 non-null    float64\n",
      " 2   quizonline   118 non-null    float64\n",
      " 3   ket          118 non-null    int32  \n",
      "dtypes: float64(3), int32(1)\n",
      "memory usage: 4.1 KB\n"
     ]
    },
    {
     "data": {
      "text/plain": [
       "UTS            118\n",
       "tugasonline    118\n",
       "quizonline     118\n",
       "ket            118\n",
       "dtype: int64"
      ]
     },
     "execution_count": 7,
     "metadata": {},
     "output_type": "execute_result"
    }
   ],
   "source": [
    "# cek data \n",
    "df.info()\n",
    "df.count()"
   ]
  },
  {
   "cell_type": "code",
   "execution_count": 8,
   "id": "8873a6aa",
   "metadata": {},
   "outputs": [
    {
     "data": {
      "text/html": [
       "<div>\n",
       "<style scoped>\n",
       "    .dataframe tbody tr th:only-of-type {\n",
       "        vertical-align: middle;\n",
       "    }\n",
       "\n",
       "    .dataframe tbody tr th {\n",
       "        vertical-align: top;\n",
       "    }\n",
       "\n",
       "    .dataframe thead th {\n",
       "        text-align: right;\n",
       "    }\n",
       "</style>\n",
       "<table border=\"1\" class=\"dataframe\">\n",
       "  <thead>\n",
       "    <tr style=\"text-align: right;\">\n",
       "      <th></th>\n",
       "      <th>UTS</th>\n",
       "      <th>tugasonline</th>\n",
       "      <th>quizonline</th>\n",
       "      <th>ket</th>\n",
       "    </tr>\n",
       "  </thead>\n",
       "  <tbody>\n",
       "    <tr>\n",
       "      <th>count</th>\n",
       "      <td>118.000000</td>\n",
       "      <td>118.000000</td>\n",
       "      <td>118.000000</td>\n",
       "      <td>118.000000</td>\n",
       "    </tr>\n",
       "    <tr>\n",
       "      <th>mean</th>\n",
       "      <td>55.658475</td>\n",
       "      <td>60.658475</td>\n",
       "      <td>69.266525</td>\n",
       "      <td>0.355932</td>\n",
       "    </tr>\n",
       "    <tr>\n",
       "      <th>std</th>\n",
       "      <td>27.590063</td>\n",
       "      <td>24.553703</td>\n",
       "      <td>25.345255</td>\n",
       "      <td>0.480837</td>\n",
       "    </tr>\n",
       "    <tr>\n",
       "      <th>min</th>\n",
       "      <td>0.000000</td>\n",
       "      <td>0.000000</td>\n",
       "      <td>0.000000</td>\n",
       "      <td>0.000000</td>\n",
       "    </tr>\n",
       "    <tr>\n",
       "      <th>25%</th>\n",
       "      <td>39.910000</td>\n",
       "      <td>49.150000</td>\n",
       "      <td>62.860000</td>\n",
       "      <td>0.000000</td>\n",
       "    </tr>\n",
       "    <tr>\n",
       "      <th>50%</th>\n",
       "      <td>64.690000</td>\n",
       "      <td>70.000000</td>\n",
       "      <td>75.000000</td>\n",
       "      <td>0.000000</td>\n",
       "    </tr>\n",
       "    <tr>\n",
       "      <th>75%</th>\n",
       "      <td>78.500000</td>\n",
       "      <td>76.000000</td>\n",
       "      <td>85.000000</td>\n",
       "      <td>1.000000</td>\n",
       "    </tr>\n",
       "    <tr>\n",
       "      <th>max</th>\n",
       "      <td>90.000000</td>\n",
       "      <td>95.000000</td>\n",
       "      <td>100.000000</td>\n",
       "      <td>1.000000</td>\n",
       "    </tr>\n",
       "  </tbody>\n",
       "</table>\n",
       "</div>"
      ],
      "text/plain": [
       "              UTS  tugasonline  quizonline         ket\n",
       "count  118.000000   118.000000  118.000000  118.000000\n",
       "mean    55.658475    60.658475   69.266525    0.355932\n",
       "std     27.590063    24.553703   25.345255    0.480837\n",
       "min      0.000000     0.000000    0.000000    0.000000\n",
       "25%     39.910000    49.150000   62.860000    0.000000\n",
       "50%     64.690000    70.000000   75.000000    0.000000\n",
       "75%     78.500000    76.000000   85.000000    1.000000\n",
       "max     90.000000    95.000000  100.000000    1.000000"
      ]
     },
     "execution_count": 8,
     "metadata": {},
     "output_type": "execute_result"
    }
   ],
   "source": [
    "# menampilkan statistik deskriptif dari dataset yang dimiliki\n",
    "df.describe()"
   ]
  },
  {
   "cell_type": "markdown",
   "id": "70864a0c",
   "metadata": {},
   "source": [
    "# Visualisasi Data "
   ]
  },
  {
   "cell_type": "code",
   "execution_count": 9,
   "id": "b6a2d95d",
   "metadata": {},
   "outputs": [
    {
     "name": "stdout",
     "output_type": "stream",
     "text": [
      "Jumlah orang yang tidak lulus: 42\n",
      "Jumlah orang yang lulus: 76\n"
     ]
    }
   ],
   "source": [
    "# Menghitung jumlah orang yang tidak lulus\n",
    "jumlah_tidak_lulus = df['ket'].value_counts()[1]\n",
    "print(\"Jumlah orang yang tidak lulus:\", jumlah_tidak_lulus)\n",
    "\n",
    "# Menghitung jumlah orang yang lulus\n",
    "jumlah_lulus = df['ket'].value_counts()[0]\n",
    "print(\"Jumlah orang yang lulus:\", jumlah_lulus)"
   ]
  },
  {
   "cell_type": "code",
   "execution_count": 10,
   "id": "5e9821ff",
   "metadata": {
    "scrolled": true
   },
   "outputs": [
    {
     "name": "stderr",
     "output_type": "stream",
     "text": [
      "C:\\ProgramData\\Anaconda3\\lib\\site-packages\\seaborn\\_decorators.py:36: FutureWarning: Pass the following variable as a keyword arg: x. From version 0.12, the only valid positional argument will be `data`, and passing other arguments without an explicit keyword will result in an error or misinterpretation.\n",
      "  warnings.warn(\n"
     ]
    },
    {
     "data": {
      "text/plain": [
       "<AxesSubplot:xlabel='ket', ylabel='count'>"
      ]
     },
     "execution_count": 10,
     "metadata": {},
     "output_type": "execute_result"
    },
    {
     "data": {
      "image/png": "[encoded data removed]",
      "text/plain": [
       "<Figure size 640x480 with 1 Axes>"
      ]
     },
     "metadata": {},
     "output_type": "display_data"
    }
   ],
   "source": [
    "sns.countplot(df.ket)"
   ]
  },
  {
   "cell_type": "code",
   "execution_count": 11,
   "id": "aef10063",
   "metadata": {},
   "outputs": [
    {
     "name": "stderr",
     "output_type": "stream",
     "text": [
      "C:\\ProgramData\\Anaconda3\\lib\\site-packages\\seaborn\\_decorators.py:36: FutureWarning: Pass the following variable as a keyword arg: x. From version 0.12, the only valid positional argument will be `data`, and passing other arguments without an explicit keyword will result in an error or misinterpretation.\n",
      "  warnings.warn(\n"
     ]
    },
    {
     "data": {
      "text/plain": [
       "<AxesSubplot:xlabel='grade', ylabel='count'>"
      ]
     },
     "execution_count": 11,
     "metadata": {},
     "output_type": "execute_result"
    },
    {
     "data": {
      "image/png": "[encoded data removed]",
      "text/plain": [
       "<Figure size 640x480 with 1 Axes>"
      ]
     },
     "metadata": {},
     "output_type": "display_data"
    }
   ],
   "source": [
    "sns.countplot(data.grade)"
   ]
  },
  {
   "cell_type": "markdown",
   "id": "7124b86e",
   "metadata": {},
   "source": [
    "# Modelling"
   ]
  },
  {
   "cell_type": "code",
   "execution_count": 12,
   "id": "301f04fb",
   "metadata": {},
   "outputs": [],
   "source": [
    "# Memisahkan atribut dan label\n",
    "X = df.drop(['ket'], axis=1)\n",
    "y = df['ket']"
   ]
  },
  {
   "cell_type": "code",
   "execution_count": 13,
   "id": "810eed5a",
   "metadata": {
    "scrolled": true
   },
   "outputs": [],
   "source": [
    "# Membagi dataset menjadi data latih dan data uji\n",
    "X_train, X_test, y_train, y_test = train_test_split(X, y, test_size=0.2, random_state=1)"
   ]
  },
  {
   "cell_type": "code",
   "execution_count": 14,
   "id": "1ebdf827",
   "metadata": {},
   "outputs": [
    {
     "data": {
      "text/html": [
       "<style>#sk-container-id-1 {color: black;background-color: white;}#sk-container-id-1 pre{padding: 0;}#sk-container-id-1 div.sk-toggleable {background-color: white;}#sk-container-id-1 label.sk-toggleable__label {cursor: pointer;display: block;width: 100%;margin-bottom: 0;padding: 0.3em;box-sizing: border-box;text-align: center;}#sk-container-id-1 label.sk-toggleable__label-arrow:before {content: \"▸\";float: left;margin-right: 0.25em;color: #696969;}#sk-container-id-1 label.sk-toggleable__label-arrow:hover:before {color: black;}#sk-container-id-1 div.sk-estimator:hover label.sk-toggleable__label-arrow:before {color: black;}#sk-container-id-1 div.sk-toggleable__content {max-height: 0;max-width: 0;overflow: hidden;text-align: left;background-color: #f0f8ff;}#sk-container-id-1 div.sk-toggleable__content pre {margin: 0.2em;color: black;border-radius: 0.25em;background-color: #f0f8ff;}#sk-container-id-1 input.sk-toggleable__control:checked~div.sk-toggleable__content {max-height: 200px;max-width: 100%;overflow: auto;}#sk-container-id-1 input.sk-toggleable__control:checked~label.sk-toggleable__label-arrow:before {content: \"▾\";}#sk-container-id-1 div.sk-estimator input.sk-toggleable__control:checked~label.sk-toggleable__label {background-color: #d4ebff;}#sk-container-id-1 div.sk-label input.sk-toggleable__control:checked~label.sk-toggleable__label {background-color: #d4ebff;}#sk-container-id-1 input.sk-hidden--visually {border: 0;clip: rect(1px 1px 1px 1px);clip: rect(1px, 1px, 1px, 1px);height: 1px;margin: -1px;overflow: hidden;padding: 0;position: absolute;width: 1px;}#sk-container-id-1 div.sk-estimator {font-family: monospace;background-color: #f0f8ff;border: 1px dotted black;border-radius: 0.25em;box-sizing: border-box;margin-bottom: 0.5em;}#sk-container-id-1 div.sk-estimator:hover {background-color: #d4ebff;}#sk-container-id-1 div.sk-parallel-item::after {content: \"\";width: 100%;border-bottom: 1px solid gray;flex-grow: 1;}#sk-container-id-1 div.sk-label:hover label.sk-toggleable__label {background-color: #d4ebff;}#sk-container-id-1 div.sk-serial::before {content: \"\";position: absolute;border-left: 1px solid gray;box-sizing: border-box;top: 0;bottom: 0;left: 50%;z-index: 0;}#sk-container-id-1 div.sk-serial {display: flex;flex-direction: column;align-items: center;background-color: white;padding-right: 0.2em;padding-left: 0.2em;position: relative;}#sk-container-id-1 div.sk-item {position: relative;z-index: 1;}#sk-container-id-1 div.sk-parallel {display: flex;align-items: stretch;justify-content: center;background-color: white;position: relative;}#sk-container-id-1 div.sk-item::before, #sk-container-id-1 div.sk-parallel-item::before {content: \"\";position: absolute;border-left: 1px solid gray;box-sizing: border-box;top: 0;bottom: 0;left: 50%;z-index: -1;}#sk-container-id-1 div.sk-parallel-item {display: flex;flex-direction: column;z-index: 1;position: relative;background-color: white;}#sk-container-id-1 div.sk-parallel-item:first-child::after {align-self: flex-end;width: 50%;}#sk-container-id-1 div.sk-parallel-item:last-child::after {align-self: flex-start;width: 50%;}#sk-container-id-1 div.sk-parallel-item:only-child::after {width: 0;}#sk-container-id-1 div.sk-dashed-wrapped {border: 1px dashed gray;margin: 0 0.4em 0.5em 0.4em;box-sizing: border-box;padding-bottom: 0.4em;background-color: white;}#sk-container-id-1 div.sk-label label {font-family: monospace;font-weight: bold;display: inline-block;line-height: 1.2em;}#sk-container-id-1 div.sk-label-container {text-align: center;}#sk-container-id-1 div.sk-container {/* jupyter's `normalize.less` sets `[hidden] { display: none; }` but bootstrap.min.css set `[hidden] { display: none !important; }` so we also need the `!important` here to be able to override the default hidden behavior on the sphinx rendered scikit-learn.org. See: https://github.com/scikit-learn/scikit-learn/issues/21755 */display: inline-block !important;position: relative;}#sk-container-id-1 div.sk-text-repr-fallback {display: none;}</style><div id=\"sk-container-id-1\" class=\"sk-top-container\"><div class=\"sk-text-repr-fallback\"><pre>DecisionTreeClassifier(criterion=&#x27;entropy&#x27;)</pre><b>In a Jupyter environment, please rerun this cell to show the HTML representation or trust the notebook. <br />On GitHub, the HTML representation is unable to render, please try loading this page with nbviewer.org.</b></div><div class=\"sk-container\" hidden><div class=\"sk-item\"><div class=\"sk-estimator sk-toggleable\"><input class=\"sk-toggleable__control sk-hidden--visually\" id=\"sk-estimator-id-1\" type=\"checkbox\" checked><label for=\"sk-estimator-id-1\" class=\"sk-toggleable__label sk-toggleable__label-arrow\">DecisionTreeClassifier</label><div class=\"sk-toggleable__content\"><pre>DecisionTreeClassifier(criterion=&#x27;entropy&#x27;)</pre></div></div></div></div></div>"
      ],
      "text/plain": [
       "DecisionTreeClassifier(criterion='entropy')"
      ]
     },
     "execution_count": 14,
     "metadata": {},
     "output_type": "execute_result"
    }
   ],
   "source": [
    "# Membangun model C4.5 (Decision Tree)\n",
    "model = DecisionTreeClassifier(criterion='entropy')\n",
    "model.fit(X_train, y_train)"
   ]
  },
  {
   "cell_type": "code",
   "execution_count": 15,
   "id": "75e082ce",
   "metadata": {},
   "outputs": [],
   "source": [
    "# Memprediksi data uji\n",
    "y_pred = model.predict(X_test)"
   ]
  },
  {
   "cell_type": "markdown",
   "id": "b09a6b86",
   "metadata": {},
   "source": [
    "# Evaluation "
   ]
  },
  {
   "cell_type": "code",
   "execution_count": 16,
   "id": "2c24431a",
   "metadata": {},
   "outputs": [
    {
     "name": "stdout",
     "output_type": "stream",
     "text": [
      "Confusion Matrix:\n",
      "[[15  1]\n",
      " [ 2  6]]\n",
      "\n",
      "Classification Report:\n",
      "              precision    recall  f1-score   support\n",
      "\n",
      "           0       0.88      0.94      0.91        16\n",
      "           1       0.86      0.75      0.80         8\n",
      "\n",
      "    accuracy                           0.88        24\n",
      "   macro avg       0.87      0.84      0.85        24\n",
      "weighted avg       0.87      0.88      0.87        24\n",
      "\n"
     ]
    },
    {
     "data": {
      "image/png": "[encoded data removed]",
      "text/plain": [
       "<Figure size 1100x500 with 2 Axes>"
      ]
     },
     "metadata": {},
     "output_type": "display_data"
    }
   ],
   "source": [
    "# Menampilkan confusion matrix dan classification report\n",
    "from jcopml.plot import plot_confusion_matrix\n",
    "\n",
    "print(\"Confusion Matrix:\")\n",
    "print(confusion_matrix(y_test, y_pred))\n",
    "print(\"\\nClassification Report:\")\n",
    "print(classification_report(y_test, y_pred))\n",
    "\n",
    "plot_confusion_matrix(X_train, y_train, X_test, y_test, model)"
   ]
  },
  {
   "cell_type": "code",
   "execution_count": 17,
   "id": "9c537f4b",
   "metadata": {},
   "outputs": [],
   "source": [
    "accuracy_train = model.score(X_train, y_train)\n",
    "accuracy_test  = model.score(X_test, y_test) "
   ]
  },
  {
   "cell_type": "code",
   "execution_count": 18,
   "id": "b7366323",
   "metadata": {},
   "outputs": [
    {
     "name": "stdout",
     "output_type": "stream",
     "text": [
      "Akurasi Model (Train) : 100.0 %\n",
      "Akurasi Model (Test)  : 87.5 %\n"
     ]
    }
   ],
   "source": [
    "print(f\"Akurasi Model (Train) : {np.round(accuracy_train * 100,2)} %\")\n",
    "print(f\"Akurasi Model (Test)  : {np.round(accuracy_test * 100,2)} %\")"
   ]
  },
  {
   "cell_type": "markdown",
   "id": "85f89f45",
   "metadata": {},
   "source": [
    "## Pengaruh terbesar dalam kelulusan "
   ]
  },
  {
   "cell_type": "code",
   "execution_count": 19,
   "id": "90351b08",
   "metadata": {},
   "outputs": [],
   "source": [
    "# Mendapatkan pentingnya fitur\n",
    "feature_importances = model.feature_importances_"
   ]
  },
  {
   "cell_type": "code",
   "execution_count": 20,
   "id": "4652c576",
   "metadata": {},
   "outputs": [
    {
     "name": "stdout",
     "output_type": "stream",
     "text": [
      "UTS 0.4976786872026633\n",
      "tugasonline 0.2845711947889441\n",
      "quizonline 0.21775011800839264\n"
     ]
    }
   ],
   "source": [
    "# Menampilkan atribut yang paling berpengaruh\n",
    "for feature, importance in zip(X.columns, feature_importances):\n",
    "    print(feature, importance)"
   ]
  },
  {
   "cell_type": "markdown",
   "id": "59694fb5",
   "metadata": {},
   "source": [
    "## Rules  "
   ]
  },
  {
   "cell_type": "code",
   "execution_count": 21,
   "id": "4270ebad",
   "metadata": {},
   "outputs": [
    {
     "name": "stdout",
     "output_type": "stream",
     "text": [
      "|--- UTS <= 56.75\n",
      "|   |--- tugasonline <= 52.90\n",
      "|   |   |--- class: 1\n",
      "|   |--- tugasonline >  52.90\n",
      "|   |   |--- quizonline <= 52.85\n",
      "|   |   |   |--- class: 1\n",
      "|   |   |--- quizonline >  52.85\n",
      "|   |   |   |--- quizonline <= 84.65\n",
      "|   |   |   |   |--- tugasonline <= 73.40\n",
      "|   |   |   |   |   |--- class: 0\n",
      "|   |   |   |   |--- tugasonline >  73.40\n",
      "|   |   |   |   |   |--- quizonline <= 65.00\n",
      "|   |   |   |   |   |   |--- class: 0\n",
      "|   |   |   |   |   |--- quizonline >  65.00\n",
      "|   |   |   |   |   |   |--- class: 1\n",
      "|   |   |   |--- quizonline >  84.65\n",
      "|   |   |   |   |--- quizonline <= 99.28\n",
      "|   |   |   |   |   |--- class: 1\n",
      "|   |   |   |   |--- quizonline >  99.28\n",
      "|   |   |   |   |   |--- class: 0\n",
      "|--- UTS >  56.75\n",
      "|   |--- tugasonline <= 44.00\n",
      "|   |   |--- class: 1\n",
      "|   |--- tugasonline >  44.00\n",
      "|   |   |--- quizonline <= 72.50\n",
      "|   |   |   |--- UTS <= 81.10\n",
      "|   |   |   |   |--- UTS <= 65.35\n",
      "|   |   |   |   |   |--- UTS <= 63.75\n",
      "|   |   |   |   |   |   |--- class: 0\n",
      "|   |   |   |   |   |--- UTS >  63.75\n",
      "|   |   |   |   |   |   |--- class: 1\n",
      "|   |   |   |   |--- UTS >  65.35\n",
      "|   |   |   |   |   |--- class: 0\n",
      "|   |   |   |--- UTS >  81.10\n",
      "|   |   |   |   |--- quizonline <= 68.57\n",
      "|   |   |   |   |   |--- class: 1\n",
      "|   |   |   |   |--- quizonline >  68.57\n",
      "|   |   |   |   |   |--- class: 0\n",
      "|   |   |--- quizonline >  72.50\n",
      "|   |   |   |--- class: 0\n",
      "\n"
     ]
    },
    {
     "data": {
      "image/svg+xml": [
       "<?xml version=\"1.0\" encoding=\"UTF-8\" standalone=\"no\"?>\n",
       "<!DOCTYPE svg PUBLIC \"-//W3C//DTD SVG 1.1//EN\"\n",
       " \"http://www.w3.org/Graphics/SVG/1.1/DTD/svg11.dtd\">\n",
       "<!-- Generated by graphviz version 2.50.0 (0)\n",
       " -->\n",
       "<!-- Title: Tree Pages: 1 -->\n",
       "<svg width=\"1106pt\" height=\"790pt\"\n",
       " viewBox=\"0.00 0.00 1106.00 790.00\" xmlns=\"http://www.w3.org/2000/svg\" xmlns:xlink=\"http://www.w3.org/1999/xlink\">\n",
       "<g id=\"graph0\" class=\"graph\" transform=\"scale(1 1) rotate(0) translate(4 786)\">\n",
       "<title>Tree</title>\n",
       "<polygon fill=\"white\" stroke=\"transparent\" points=\"-4,4 -4,-786 1102,-786 1102,4 -4,4\"/>\n",
       "<!-- 0 -->\n",
       "<g id=\"node1\" class=\"node\">\n",
       "<title>0</title>\n",
       "<path fill=\"#f4c8a9\" stroke=\"black\" d=\"M543,-782C543,-782 435,-782 435,-782 429,-782 423,-776 423,-770 423,-770 423,-711 423,-711 423,-705 429,-699 435,-699 435,-699 543,-699 543,-699 549,-699 555,-705 555,-711 555,-711 555,-770 555,-770 555,-776 549,-782 543,-782\"/>\n",
       "<text text-anchor=\"start\" x=\"451\" y=\"-766.8\" font-family=\"Helvetica,sans-Serif\" font-size=\"14.00\">UTS ≤ 56.75</text>\n",
       "<text text-anchor=\"start\" x=\"441.5\" y=\"-751.8\" font-family=\"Helvetica,sans-Serif\" font-size=\"14.00\">entropy = 0.944</text>\n",
       "<text text-anchor=\"start\" x=\"448\" y=\"-736.8\" font-family=\"Helvetica,sans-Serif\" font-size=\"14.00\">samples = 94</text>\n",
       "<text text-anchor=\"start\" x=\"442\" y=\"-721.8\" font-family=\"Helvetica,sans-Serif\" font-size=\"14.00\">value = [60, 34]</text>\n",
       "<text text-anchor=\"start\" x=\"431\" y=\"-706.8\" font-family=\"Helvetica,sans-Serif\" font-size=\"14.00\">class = Tidak Lulus</text>\n",
       "</g>\n",
       "<!-- 1 -->\n",
       "<g id=\"node2\" class=\"node\">\n",
       "<title>1</title>\n",
       "<path fill=\"#74baed\" stroke=\"black\" d=\"M466.5,-663C466.5,-663 363.5,-663 363.5,-663 357.5,-663 351.5,-657 351.5,-651 351.5,-651 351.5,-592 351.5,-592 351.5,-586 357.5,-580 363.5,-580 363.5,-580 466.5,-580 466.5,-580 472.5,-580 478.5,-586 478.5,-592 478.5,-592 478.5,-651 478.5,-651 478.5,-657 472.5,-663 466.5,-663\"/>\n",
       "<text text-anchor=\"start\" x=\"359.5\" y=\"-647.8\" font-family=\"Helvetica,sans-Serif\" font-size=\"14.00\">tugasonline ≤ 52.9</text>\n",
       "<text text-anchor=\"start\" x=\"367.5\" y=\"-632.8\" font-family=\"Helvetica,sans-Serif\" font-size=\"14.00\">entropy = 0.779</text>\n",
       "<text text-anchor=\"start\" x=\"374\" y=\"-617.8\" font-family=\"Helvetica,sans-Serif\" font-size=\"14.00\">samples = 39</text>\n",
       "<text text-anchor=\"start\" x=\"372\" y=\"-602.8\" font-family=\"Helvetica,sans-Serif\" font-size=\"14.00\">value = [9, 30]</text>\n",
       "<text text-anchor=\"start\" x=\"375.5\" y=\"-587.8\" font-family=\"Helvetica,sans-Serif\" font-size=\"14.00\">class = Lulus</text>\n",
       "</g>\n",
       "<!-- 0&#45;&gt;1 -->\n",
       "<g id=\"edge1\" class=\"edge\">\n",
       "<title>0&#45;&gt;1</title>\n",
       "<path fill=\"none\" stroke=\"black\" d=\"M463.33,-698.91C457.76,-690.1 451.81,-680.7 446.06,-671.61\"/>\n",
       "<polygon fill=\"black\" stroke=\"black\" points=\"448.93,-669.6 440.63,-663.02 443.02,-673.34 448.93,-669.6\"/>\n",
       "<text text-anchor=\"middle\" x=\"435.14\" y=\"-683.71\" font-family=\"Helvetica,sans-Serif\" font-size=\"14.00\">True</text>\n",
       "</g>\n",
       "<!-- 14 -->\n",
       "<g id=\"node15\" class=\"node\">\n",
       "<title>14</title>\n",
       "<path fill=\"#e78b49\" stroke=\"black\" d=\"M631,-663C631,-663 523,-663 523,-663 517,-663 511,-657 511,-651 511,-651 511,-592 511,-592 511,-586 517,-580 523,-580 523,-580 631,-580 631,-580 637,-580 643,-586 643,-592 643,-592 643,-651 643,-651 643,-657 637,-663 631,-663\"/>\n",
       "<text text-anchor=\"start\" x=\"521.5\" y=\"-647.8\" font-family=\"Helvetica,sans-Serif\" font-size=\"14.00\">tugasonline ≤ 44.0</text>\n",
       "<text text-anchor=\"start\" x=\"529.5\" y=\"-632.8\" font-family=\"Helvetica,sans-Serif\" font-size=\"14.00\">entropy = 0.376</text>\n",
       "<text text-anchor=\"start\" x=\"536\" y=\"-617.8\" font-family=\"Helvetica,sans-Serif\" font-size=\"14.00\">samples = 55</text>\n",
       "<text text-anchor=\"start\" x=\"534\" y=\"-602.8\" font-family=\"Helvetica,sans-Serif\" font-size=\"14.00\">value = [51, 4]</text>\n",
       "<text text-anchor=\"start\" x=\"519\" y=\"-587.8\" font-family=\"Helvetica,sans-Serif\" font-size=\"14.00\">class = Tidak Lulus</text>\n",
       "</g>\n",
       "<!-- 0&#45;&gt;14 -->\n",
       "<g id=\"edge14\" class=\"edge\">\n",
       "<title>0&#45;&gt;14</title>\n",
       "<path fill=\"none\" stroke=\"black\" d=\"M519.53,-698.91C526.29,-689.92 533.52,-680.32 540.48,-671.05\"/>\n",
       "<polygon fill=\"black\" stroke=\"black\" points=\"543.31,-673.12 546.52,-663.02 537.71,-668.91 543.31,-673.12\"/>\n",
       "<text text-anchor=\"middle\" x=\"550.02\" y=\"-684.07\" font-family=\"Helvetica,sans-Serif\" font-size=\"14.00\">False</text>\n",
       "</g>\n",
       "<!-- 2 -->\n",
       "<g id=\"node3\" class=\"node\">\n",
       "<title>2</title>\n",
       "<path fill=\"#399de5\" stroke=\"black\" d=\"M318,-536.5C318,-536.5 240,-536.5 240,-536.5 234,-536.5 228,-530.5 228,-524.5 228,-524.5 228,-480.5 228,-480.5 228,-474.5 234,-468.5 240,-468.5 240,-468.5 318,-468.5 318,-468.5 324,-468.5 330,-474.5 330,-480.5 330,-480.5 330,-524.5 330,-524.5 330,-530.5 324,-536.5 318,-536.5\"/>\n",
       "<text text-anchor=\"start\" x=\"239\" y=\"-521.3\" font-family=\"Helvetica,sans-Serif\" font-size=\"14.00\">entropy = 0.0</text>\n",
       "<text text-anchor=\"start\" x=\"238\" y=\"-506.3\" font-family=\"Helvetica,sans-Serif\" font-size=\"14.00\">samples = 21</text>\n",
       "<text text-anchor=\"start\" x=\"236\" y=\"-491.3\" font-family=\"Helvetica,sans-Serif\" font-size=\"14.00\">value = [0, 21]</text>\n",
       "<text text-anchor=\"start\" x=\"239.5\" y=\"-476.3\" font-family=\"Helvetica,sans-Serif\" font-size=\"14.00\">class = Lulus</text>\n",
       "</g>\n",
       "<!-- 1&#45;&gt;2 -->\n",
       "<g id=\"edge2\" class=\"edge\">\n",
       "<title>1&#45;&gt;2</title>\n",
       "<path fill=\"none\" stroke=\"black\" d=\"M367.82,-579.91C354.09,-568.1 339.11,-555.22 325.44,-543.45\"/>\n",
       "<polygon fill=\"black\" stroke=\"black\" points=\"327.42,-540.54 317.55,-536.67 322.85,-545.84 327.42,-540.54\"/>\n",
       "</g>\n",
       "<!-- 3 -->\n",
       "<g id=\"node4\" class=\"node\">\n",
       "<title>3</title>\n",
       "<path fill=\"#ffffff\" stroke=\"black\" d=\"M470,-544C470,-544 360,-544 360,-544 354,-544 348,-538 348,-532 348,-532 348,-473 348,-473 348,-467 354,-461 360,-461 360,-461 470,-461 470,-461 476,-461 482,-467 482,-473 482,-473 482,-532 482,-532 482,-538 476,-544 470,-544\"/>\n",
       "<text text-anchor=\"start\" x=\"356\" y=\"-528.8\" font-family=\"Helvetica,sans-Serif\" font-size=\"14.00\">quizonline ≤ 52.855</text>\n",
       "<text text-anchor=\"start\" x=\"375\" y=\"-513.8\" font-family=\"Helvetica,sans-Serif\" font-size=\"14.00\">entropy = 1.0</text>\n",
       "<text text-anchor=\"start\" x=\"374\" y=\"-498.8\" font-family=\"Helvetica,sans-Serif\" font-size=\"14.00\">samples = 18</text>\n",
       "<text text-anchor=\"start\" x=\"375.5\" y=\"-483.8\" font-family=\"Helvetica,sans-Serif\" font-size=\"14.00\">value = [9, 9]</text>\n",
       "<text text-anchor=\"start\" x=\"357\" y=\"-468.8\" font-family=\"Helvetica,sans-Serif\" font-size=\"14.00\">class = Tidak Lulus</text>\n",
       "</g>\n",
       "<!-- 1&#45;&gt;3 -->\n",
       "<g id=\"edge3\" class=\"edge\">\n",
       "<title>1&#45;&gt;3</title>\n",
       "<path fill=\"none\" stroke=\"black\" d=\"M415,-579.91C415,-571.65 415,-562.86 415,-554.3\"/>\n",
       "<polygon fill=\"black\" stroke=\"black\" points=\"418.5,-554.02 415,-544.02 411.5,-554.02 418.5,-554.02\"/>\n",
       "</g>\n",
       "<!-- 4 -->\n",
       "<g id=\"node5\" class=\"node\">\n",
       "<title>4</title>\n",
       "<path fill=\"#399de5\" stroke=\"black\" d=\"M318,-417.5C318,-417.5 246,-417.5 246,-417.5 240,-417.5 234,-411.5 234,-405.5 234,-405.5 234,-361.5 234,-361.5 234,-355.5 240,-349.5 246,-349.5 246,-349.5 318,-349.5 318,-349.5 324,-349.5 330,-355.5 330,-361.5 330,-361.5 330,-405.5 330,-405.5 330,-411.5 324,-417.5 318,-417.5\"/>\n",
       "<text text-anchor=\"start\" x=\"242\" y=\"-402.3\" font-family=\"Helvetica,sans-Serif\" font-size=\"14.00\">entropy = 0.0</text>\n",
       "<text text-anchor=\"start\" x=\"244.5\" y=\"-387.3\" font-family=\"Helvetica,sans-Serif\" font-size=\"14.00\">samples = 3</text>\n",
       "<text text-anchor=\"start\" x=\"242.5\" y=\"-372.3\" font-family=\"Helvetica,sans-Serif\" font-size=\"14.00\">value = [0, 3]</text>\n",
       "<text text-anchor=\"start\" x=\"242.5\" y=\"-357.3\" font-family=\"Helvetica,sans-Serif\" font-size=\"14.00\">class = Lulus</text>\n",
       "</g>\n",
       "<!-- 3&#45;&gt;4 -->\n",
       "<g id=\"edge4\" class=\"edge\">\n",
       "<title>3&#45;&gt;4</title>\n",
       "<path fill=\"none\" stroke=\"black\" d=\"M368.86,-460.91C355.43,-449.1 340.79,-436.22 327.41,-424.45\"/>\n",
       "<polygon fill=\"black\" stroke=\"black\" points=\"329.52,-421.64 319.7,-417.67 324.9,-426.9 329.52,-421.64\"/>\n",
       "</g>\n",
       "<!-- 5 -->\n",
       "<g id=\"node6\" class=\"node\">\n",
       "<title>5</title>\n",
       "<path fill=\"#f6d5bd\" stroke=\"black\" d=\"M470,-425C470,-425 360,-425 360,-425 354,-425 348,-419 348,-413 348,-413 348,-354 348,-354 348,-348 354,-342 360,-342 360,-342 470,-342 470,-342 476,-342 482,-348 482,-354 482,-354 482,-413 482,-413 482,-419 476,-425 470,-425\"/>\n",
       "<text text-anchor=\"start\" x=\"356\" y=\"-409.8\" font-family=\"Helvetica,sans-Serif\" font-size=\"14.00\">quizonline ≤ 84.645</text>\n",
       "<text text-anchor=\"start\" x=\"367.5\" y=\"-394.8\" font-family=\"Helvetica,sans-Serif\" font-size=\"14.00\">entropy = 0.971</text>\n",
       "<text text-anchor=\"start\" x=\"374\" y=\"-379.8\" font-family=\"Helvetica,sans-Serif\" font-size=\"14.00\">samples = 15</text>\n",
       "<text text-anchor=\"start\" x=\"375.5\" y=\"-364.8\" font-family=\"Helvetica,sans-Serif\" font-size=\"14.00\">value = [9, 6]</text>\n",
       "<text text-anchor=\"start\" x=\"357\" y=\"-349.8\" font-family=\"Helvetica,sans-Serif\" font-size=\"14.00\">class = Tidak Lulus</text>\n",
       "</g>\n",
       "<!-- 3&#45;&gt;5 -->\n",
       "<g id=\"edge5\" class=\"edge\">\n",
       "<title>3&#45;&gt;5</title>\n",
       "<path fill=\"none\" stroke=\"black\" d=\"M415,-460.91C415,-452.65 415,-443.86 415,-435.3\"/>\n",
       "<polygon fill=\"black\" stroke=\"black\" points=\"418.5,-435.02 415,-425.02 411.5,-435.02 418.5,-435.02\"/>\n",
       "</g>\n",
       "<!-- 6 -->\n",
       "<g id=\"node7\" class=\"node\">\n",
       "<title>6</title>\n",
       "<path fill=\"#eca06a\" stroke=\"black\" d=\"M264,-306C264,-306 156,-306 156,-306 150,-306 144,-300 144,-294 144,-294 144,-235 144,-235 144,-229 150,-223 156,-223 156,-223 264,-223 264,-223 270,-223 276,-229 276,-235 276,-235 276,-294 276,-294 276,-300 270,-306 264,-306\"/>\n",
       "<text text-anchor=\"start\" x=\"154.5\" y=\"-290.8\" font-family=\"Helvetica,sans-Serif\" font-size=\"14.00\">tugasonline ≤ 73.4</text>\n",
       "<text text-anchor=\"start\" x=\"162.5\" y=\"-275.8\" font-family=\"Helvetica,sans-Serif\" font-size=\"14.00\">entropy = 0.722</text>\n",
       "<text text-anchor=\"start\" x=\"169\" y=\"-260.8\" font-family=\"Helvetica,sans-Serif\" font-size=\"14.00\">samples = 10</text>\n",
       "<text text-anchor=\"start\" x=\"170.5\" y=\"-245.8\" font-family=\"Helvetica,sans-Serif\" font-size=\"14.00\">value = [8, 2]</text>\n",
       "<text text-anchor=\"start\" x=\"152\" y=\"-230.8\" font-family=\"Helvetica,sans-Serif\" font-size=\"14.00\">class = Tidak Lulus</text>\n",
       "</g>\n",
       "<!-- 5&#45;&gt;6 -->\n",
       "<g id=\"edge6\" class=\"edge\">\n",
       "<title>5&#45;&gt;6</title>\n",
       "<path fill=\"none\" stroke=\"black\" d=\"M347.88,-344.19C327.75,-332.7 305.54,-320.03 284.95,-308.27\"/>\n",
       "<polygon fill=\"black\" stroke=\"black\" points=\"286.65,-305.21 276.23,-303.3 283.18,-311.29 286.65,-305.21\"/>\n",
       "</g>\n",
       "<!-- 11 -->\n",
       "<g id=\"node12\" class=\"node\">\n",
       "<title>11</title>\n",
       "<path fill=\"#6ab6ec\" stroke=\"black\" d=\"M470,-306C470,-306 360,-306 360,-306 354,-306 348,-300 348,-294 348,-294 348,-235 348,-235 348,-229 354,-223 360,-223 360,-223 470,-223 470,-223 476,-223 482,-229 482,-235 482,-235 482,-294 482,-294 482,-300 476,-306 470,-306\"/>\n",
       "<text text-anchor=\"start\" x=\"356\" y=\"-290.8\" font-family=\"Helvetica,sans-Serif\" font-size=\"14.00\">quizonline ≤ 99.285</text>\n",
       "<text text-anchor=\"start\" x=\"367.5\" y=\"-275.8\" font-family=\"Helvetica,sans-Serif\" font-size=\"14.00\">entropy = 0.722</text>\n",
       "<text text-anchor=\"start\" x=\"377.5\" y=\"-260.8\" font-family=\"Helvetica,sans-Serif\" font-size=\"14.00\">samples = 5</text>\n",
       "<text text-anchor=\"start\" x=\"375.5\" y=\"-245.8\" font-family=\"Helvetica,sans-Serif\" font-size=\"14.00\">value = [1, 4]</text>\n",
       "<text text-anchor=\"start\" x=\"375.5\" y=\"-230.8\" font-family=\"Helvetica,sans-Serif\" font-size=\"14.00\">class = Lulus</text>\n",
       "</g>\n",
       "<!-- 5&#45;&gt;11 -->\n",
       "<g id=\"edge11\" class=\"edge\">\n",
       "<title>5&#45;&gt;11</title>\n",
       "<path fill=\"none\" stroke=\"black\" d=\"M415,-341.91C415,-333.65 415,-324.86 415,-316.3\"/>\n",
       "<polygon fill=\"black\" stroke=\"black\" points=\"418.5,-316.02 415,-306.02 411.5,-316.02 418.5,-316.02\"/>\n",
       "</g>\n",
       "<!-- 7 -->\n",
       "<g id=\"node8\" class=\"node\">\n",
       "<title>7</title>\n",
       "<path fill=\"#e58139\" stroke=\"black\" d=\"M120,-179.5C120,-179.5 12,-179.5 12,-179.5 6,-179.5 0,-173.5 0,-167.5 0,-167.5 0,-123.5 0,-123.5 0,-117.5 6,-111.5 12,-111.5 12,-111.5 120,-111.5 120,-111.5 126,-111.5 132,-117.5 132,-123.5 132,-123.5 132,-167.5 132,-167.5 132,-173.5 126,-179.5 120,-179.5\"/>\n",
       "<text text-anchor=\"start\" x=\"26\" y=\"-164.3\" font-family=\"Helvetica,sans-Serif\" font-size=\"14.00\">entropy = 0.0</text>\n",
       "<text text-anchor=\"start\" x=\"28.5\" y=\"-149.3\" font-family=\"Helvetica,sans-Serif\" font-size=\"14.00\">samples = 7</text>\n",
       "<text text-anchor=\"start\" x=\"26.5\" y=\"-134.3\" font-family=\"Helvetica,sans-Serif\" font-size=\"14.00\">value = [7, 0]</text>\n",
       "<text text-anchor=\"start\" x=\"8\" y=\"-119.3\" font-family=\"Helvetica,sans-Serif\" font-size=\"14.00\">class = Tidak Lulus</text>\n",
       "</g>\n",
       "<!-- 6&#45;&gt;7 -->\n",
       "<g id=\"edge7\" class=\"edge\">\n",
       "<title>6&#45;&gt;7</title>\n",
       "<path fill=\"none\" stroke=\"black\" d=\"M160.04,-222.91C145.37,-210.99 129.35,-197.98 114.76,-186.12\"/>\n",
       "<polygon fill=\"black\" stroke=\"black\" points=\"116.79,-183.26 106.82,-179.67 112.37,-188.69 116.79,-183.26\"/>\n",
       "</g>\n",
       "<!-- 8 -->\n",
       "<g id=\"node9\" class=\"node\">\n",
       "<title>8</title>\n",
       "<path fill=\"#9ccef2\" stroke=\"black\" d=\"M257.5,-187C257.5,-187 162.5,-187 162.5,-187 156.5,-187 150.5,-181 150.5,-175 150.5,-175 150.5,-116 150.5,-116 150.5,-110 156.5,-104 162.5,-104 162.5,-104 257.5,-104 257.5,-104 263.5,-104 269.5,-110 269.5,-116 269.5,-116 269.5,-175 269.5,-175 269.5,-181 263.5,-187 257.5,-187\"/>\n",
       "<text text-anchor=\"start\" x=\"158.5\" y=\"-171.8\" font-family=\"Helvetica,sans-Serif\" font-size=\"14.00\">quizonline ≤ 65.0</text>\n",
       "<text text-anchor=\"start\" x=\"162.5\" y=\"-156.8\" font-family=\"Helvetica,sans-Serif\" font-size=\"14.00\">entropy = 0.918</text>\n",
       "<text text-anchor=\"start\" x=\"172.5\" y=\"-141.8\" font-family=\"Helvetica,sans-Serif\" font-size=\"14.00\">samples = 3</text>\n",
       "<text text-anchor=\"start\" x=\"170.5\" y=\"-126.8\" font-family=\"Helvetica,sans-Serif\" font-size=\"14.00\">value = [1, 2]</text>\n",
       "<text text-anchor=\"start\" x=\"170.5\" y=\"-111.8\" font-family=\"Helvetica,sans-Serif\" font-size=\"14.00\">class = Lulus</text>\n",
       "</g>\n",
       "<!-- 6&#45;&gt;8 -->\n",
       "<g id=\"edge8\" class=\"edge\">\n",
       "<title>6&#45;&gt;8</title>\n",
       "<path fill=\"none\" stroke=\"black\" d=\"M210,-222.91C210,-214.65 210,-205.86 210,-197.3\"/>\n",
       "<polygon fill=\"black\" stroke=\"black\" points=\"213.5,-197.02 210,-187.02 206.5,-197.02 213.5,-197.02\"/>\n",
       "</g>\n",
       "<!-- 9 -->\n",
       "<g id=\"node10\" class=\"node\">\n",
       "<title>9</title>\n",
       "<path fill=\"#e58139\" stroke=\"black\" d=\"M198,-68C198,-68 90,-68 90,-68 84,-68 78,-62 78,-56 78,-56 78,-12 78,-12 78,-6 84,0 90,0 90,0 198,0 198,0 204,0 210,-6 210,-12 210,-12 210,-56 210,-56 210,-62 204,-68 198,-68\"/>\n",
       "<text text-anchor=\"start\" x=\"104\" y=\"-52.8\" font-family=\"Helvetica,sans-Serif\" font-size=\"14.00\">entropy = 0.0</text>\n",
       "<text text-anchor=\"start\" x=\"106.5\" y=\"-37.8\" font-family=\"Helvetica,sans-Serif\" font-size=\"14.00\">samples = 1</text>\n",
       "<text text-anchor=\"start\" x=\"104.5\" y=\"-22.8\" font-family=\"Helvetica,sans-Serif\" font-size=\"14.00\">value = [1, 0]</text>\n",
       "<text text-anchor=\"start\" x=\"86\" y=\"-7.8\" font-family=\"Helvetica,sans-Serif\" font-size=\"14.00\">class = Tidak Lulus</text>\n",
       "</g>\n",
       "<!-- 8&#45;&gt;9 -->\n",
       "<g id=\"edge9\" class=\"edge\">\n",
       "<title>8&#45;&gt;9</title>\n",
       "<path fill=\"none\" stroke=\"black\" d=\"M185.42,-103.73C180.15,-94.97 174.56,-85.7 169.26,-76.91\"/>\n",
       "<polygon fill=\"black\" stroke=\"black\" points=\"172.23,-75.06 164.07,-68.3 166.24,-78.67 172.23,-75.06\"/>\n",
       "</g>\n",
       "<!-- 10 -->\n",
       "<g id=\"node11\" class=\"node\">\n",
       "<title>10</title>\n",
       "<path fill=\"#399de5\" stroke=\"black\" d=\"M312,-68C312,-68 240,-68 240,-68 234,-68 228,-62 228,-56 228,-56 228,-12 228,-12 228,-6 234,0 240,0 240,0 312,0 312,0 318,0 324,-6 324,-12 324,-12 324,-56 324,-56 324,-62 318,-68 312,-68\"/>\n",
       "<text text-anchor=\"start\" x=\"236\" y=\"-52.8\" font-family=\"Helvetica,sans-Serif\" font-size=\"14.00\">entropy = 0.0</text>\n",
       "<text text-anchor=\"start\" x=\"238.5\" y=\"-37.8\" font-family=\"Helvetica,sans-Serif\" font-size=\"14.00\">samples = 2</text>\n",
       "<text text-anchor=\"start\" x=\"236.5\" y=\"-22.8\" font-family=\"Helvetica,sans-Serif\" font-size=\"14.00\">value = [0, 2]</text>\n",
       "<text text-anchor=\"start\" x=\"236.5\" y=\"-7.8\" font-family=\"Helvetica,sans-Serif\" font-size=\"14.00\">class = Lulus</text>\n",
       "</g>\n",
       "<!-- 8&#45;&gt;10 -->\n",
       "<g id=\"edge10\" class=\"edge\">\n",
       "<title>8&#45;&gt;10</title>\n",
       "<path fill=\"none\" stroke=\"black\" d=\"M234.58,-103.73C239.85,-94.97 245.44,-85.7 250.74,-76.91\"/>\n",
       "<polygon fill=\"black\" stroke=\"black\" points=\"253.76,-78.67 255.93,-68.3 247.77,-75.06 253.76,-78.67\"/>\n",
       "</g>\n",
       "<!-- 12 -->\n",
       "<g id=\"node13\" class=\"node\">\n",
       "<title>12</title>\n",
       "<path fill=\"#399de5\" stroke=\"black\" d=\"M372,-179.5C372,-179.5 300,-179.5 300,-179.5 294,-179.5 288,-173.5 288,-167.5 288,-167.5 288,-123.5 288,-123.5 288,-117.5 294,-111.5 300,-111.5 300,-111.5 372,-111.5 372,-111.5 378,-111.5 384,-117.5 384,-123.5 384,-123.5 384,-167.5 384,-167.5 384,-173.5 378,-179.5 372,-179.5\"/>\n",
       "<text text-anchor=\"start\" x=\"296\" y=\"-164.3\" font-family=\"Helvetica,sans-Serif\" font-size=\"14.00\">entropy = 0.0</text>\n",
       "<text text-anchor=\"start\" x=\"298.5\" y=\"-149.3\" font-family=\"Helvetica,sans-Serif\" font-size=\"14.00\">samples = 4</text>\n",
       "<text text-anchor=\"start\" x=\"296.5\" y=\"-134.3\" font-family=\"Helvetica,sans-Serif\" font-size=\"14.00\">value = [0, 4]</text>\n",
       "<text text-anchor=\"start\" x=\"296.5\" y=\"-119.3\" font-family=\"Helvetica,sans-Serif\" font-size=\"14.00\">class = Lulus</text>\n",
       "</g>\n",
       "<!-- 11&#45;&gt;12 -->\n",
       "<g id=\"edge12\" class=\"edge\">\n",
       "<title>11&#45;&gt;12</title>\n",
       "<path fill=\"none\" stroke=\"black\" d=\"M387.59,-222.91C379.99,-211.65 371.73,-199.42 364.09,-188.11\"/>\n",
       "<polygon fill=\"black\" stroke=\"black\" points=\"366.89,-186 358.39,-179.67 361.09,-189.91 366.89,-186\"/>\n",
       "</g>\n",
       "<!-- 13 -->\n",
       "<g id=\"node14\" class=\"node\">\n",
       "<title>13</title>\n",
       "<path fill=\"#e58139\" stroke=\"black\" d=\"M522,-179.5C522,-179.5 414,-179.5 414,-179.5 408,-179.5 402,-173.5 402,-167.5 402,-167.5 402,-123.5 402,-123.5 402,-117.5 408,-111.5 414,-111.5 414,-111.5 522,-111.5 522,-111.5 528,-111.5 534,-117.5 534,-123.5 534,-123.5 534,-167.5 534,-167.5 534,-173.5 528,-179.5 522,-179.5\"/>\n",
       "<text text-anchor=\"start\" x=\"428\" y=\"-164.3\" font-family=\"Helvetica,sans-Serif\" font-size=\"14.00\">entropy = 0.0</text>\n",
       "<text text-anchor=\"start\" x=\"430.5\" y=\"-149.3\" font-family=\"Helvetica,sans-Serif\" font-size=\"14.00\">samples = 1</text>\n",
       "<text text-anchor=\"start\" x=\"428.5\" y=\"-134.3\" font-family=\"Helvetica,sans-Serif\" font-size=\"14.00\">value = [1, 0]</text>\n",
       "<text text-anchor=\"start\" x=\"410\" y=\"-119.3\" font-family=\"Helvetica,sans-Serif\" font-size=\"14.00\">class = Tidak Lulus</text>\n",
       "</g>\n",
       "<!-- 11&#45;&gt;13 -->\n",
       "<g id=\"edge13\" class=\"edge\">\n",
       "<title>11&#45;&gt;13</title>\n",
       "<path fill=\"none\" stroke=\"black\" d=\"M433.39,-222.91C438.34,-211.98 443.7,-200.14 448.7,-189.11\"/>\n",
       "<polygon fill=\"black\" stroke=\"black\" points=\"452.04,-190.22 452.98,-179.67 445.66,-187.33 452.04,-190.22\"/>\n",
       "</g>\n",
       "<!-- 15 -->\n",
       "<g id=\"node16\" class=\"node\">\n",
       "<title>15</title>\n",
       "<path fill=\"#399de5\" stroke=\"black\" d=\"M613,-536.5C613,-536.5 541,-536.5 541,-536.5 535,-536.5 529,-530.5 529,-524.5 529,-524.5 529,-480.5 529,-480.5 529,-474.5 535,-468.5 541,-468.5 541,-468.5 613,-468.5 613,-468.5 619,-468.5 625,-474.5 625,-480.5 625,-480.5 625,-524.5 625,-524.5 625,-530.5 619,-536.5 613,-536.5\"/>\n",
       "<text text-anchor=\"start\" x=\"537\" y=\"-521.3\" font-family=\"Helvetica,sans-Serif\" font-size=\"14.00\">entropy = 0.0</text>\n",
       "<text text-anchor=\"start\" x=\"539.5\" y=\"-506.3\" font-family=\"Helvetica,sans-Serif\" font-size=\"14.00\">samples = 2</text>\n",
       "<text text-anchor=\"start\" x=\"537.5\" y=\"-491.3\" font-family=\"Helvetica,sans-Serif\" font-size=\"14.00\">value = [0, 2]</text>\n",
       "<text text-anchor=\"start\" x=\"537.5\" y=\"-476.3\" font-family=\"Helvetica,sans-Serif\" font-size=\"14.00\">class = Lulus</text>\n",
       "</g>\n",
       "<!-- 14&#45;&gt;15 -->\n",
       "<g id=\"edge15\" class=\"edge\">\n",
       "<title>14&#45;&gt;15</title>\n",
       "<path fill=\"none\" stroke=\"black\" d=\"M577,-579.91C577,-569.2 577,-557.62 577,-546.78\"/>\n",
       "<polygon fill=\"black\" stroke=\"black\" points=\"580.5,-546.67 577,-536.67 573.5,-546.67 580.5,-546.67\"/>\n",
       "</g>\n",
       "<!-- 16 -->\n",
       "<g id=\"node17\" class=\"node\">\n",
       "<title>16</title>\n",
       "<path fill=\"#e68641\" stroke=\"black\" d=\"M790,-544C790,-544 682,-544 682,-544 676,-544 670,-538 670,-532 670,-532 670,-473 670,-473 670,-467 676,-461 682,-461 682,-461 790,-461 790,-461 796,-461 802,-467 802,-473 802,-473 802,-532 802,-532 802,-538 796,-544 790,-544\"/>\n",
       "<text text-anchor=\"start\" x=\"684.5\" y=\"-528.8\" font-family=\"Helvetica,sans-Serif\" font-size=\"14.00\">quizonline ≤ 72.5</text>\n",
       "<text text-anchor=\"start\" x=\"688.5\" y=\"-513.8\" font-family=\"Helvetica,sans-Serif\" font-size=\"14.00\">entropy = 0.232</text>\n",
       "<text text-anchor=\"start\" x=\"695\" y=\"-498.8\" font-family=\"Helvetica,sans-Serif\" font-size=\"14.00\">samples = 53</text>\n",
       "<text text-anchor=\"start\" x=\"693\" y=\"-483.8\" font-family=\"Helvetica,sans-Serif\" font-size=\"14.00\">value = [51, 2]</text>\n",
       "<text text-anchor=\"start\" x=\"678\" y=\"-468.8\" font-family=\"Helvetica,sans-Serif\" font-size=\"14.00\">class = Tidak Lulus</text>\n",
       "</g>\n",
       "<!-- 14&#45;&gt;16 -->\n",
       "<g id=\"edge16\" class=\"edge\">\n",
       "<title>14&#45;&gt;16</title>\n",
       "<path fill=\"none\" stroke=\"black\" d=\"M632.16,-579.91C645.24,-570.29 659.28,-559.95 672.68,-550.09\"/>\n",
       "<polygon fill=\"black\" stroke=\"black\" points=\"674.95,-552.77 680.93,-544.02 670.8,-547.13 674.95,-552.77\"/>\n",
       "</g>\n",
       "<!-- 17 -->\n",
       "<g id=\"node18\" class=\"node\">\n",
       "<title>17</title>\n",
       "<path fill=\"#e99457\" stroke=\"black\" d=\"M790,-425C790,-425 682,-425 682,-425 676,-425 670,-419 670,-413 670,-413 670,-354 670,-354 670,-348 676,-342 682,-342 682,-342 790,-342 790,-342 796,-342 802,-348 802,-354 802,-354 802,-413 802,-413 802,-419 796,-425 790,-425\"/>\n",
       "<text text-anchor=\"start\" x=\"701.5\" y=\"-409.8\" font-family=\"Helvetica,sans-Serif\" font-size=\"14.00\">UTS ≤ 81.1</text>\n",
       "<text text-anchor=\"start\" x=\"688.5\" y=\"-394.8\" font-family=\"Helvetica,sans-Serif\" font-size=\"14.00\">entropy = 0.567</text>\n",
       "<text text-anchor=\"start\" x=\"695\" y=\"-379.8\" font-family=\"Helvetica,sans-Serif\" font-size=\"14.00\">samples = 15</text>\n",
       "<text text-anchor=\"start\" x=\"693\" y=\"-364.8\" font-family=\"Helvetica,sans-Serif\" font-size=\"14.00\">value = [13, 2]</text>\n",
       "<text text-anchor=\"start\" x=\"678\" y=\"-349.8\" font-family=\"Helvetica,sans-Serif\" font-size=\"14.00\">class = Tidak Lulus</text>\n",
       "</g>\n",
       "<!-- 16&#45;&gt;17 -->\n",
       "<g id=\"edge17\" class=\"edge\">\n",
       "<title>16&#45;&gt;17</title>\n",
       "<path fill=\"none\" stroke=\"black\" d=\"M736,-460.91C736,-452.65 736,-443.86 736,-435.3\"/>\n",
       "<polygon fill=\"black\" stroke=\"black\" points=\"739.5,-435.02 736,-425.02 732.5,-435.02 739.5,-435.02\"/>\n",
       "</g>\n",
       "<!-- 26 -->\n",
       "<g id=\"node27\" class=\"node\">\n",
       "<title>26</title>\n",
       "<path fill=\"#e58139\" stroke=\"black\" d=\"M940,-417.5C940,-417.5 832,-417.5 832,-417.5 826,-417.5 820,-411.5 820,-405.5 820,-405.5 820,-361.5 820,-361.5 820,-355.5 826,-349.5 832,-349.5 832,-349.5 940,-349.5 940,-349.5 946,-349.5 952,-355.5 952,-361.5 952,-361.5 952,-405.5 952,-405.5 952,-411.5 946,-417.5 940,-417.5\"/>\n",
       "<text text-anchor=\"start\" x=\"846\" y=\"-402.3\" font-family=\"Helvetica,sans-Serif\" font-size=\"14.00\">entropy = 0.0</text>\n",
       "<text text-anchor=\"start\" x=\"845\" y=\"-387.3\" font-family=\"Helvetica,sans-Serif\" font-size=\"14.00\">samples = 38</text>\n",
       "<text text-anchor=\"start\" x=\"843\" y=\"-372.3\" font-family=\"Helvetica,sans-Serif\" font-size=\"14.00\">value = [38, 0]</text>\n",
       "<text text-anchor=\"start\" x=\"828\" y=\"-357.3\" font-family=\"Helvetica,sans-Serif\" font-size=\"14.00\">class = Tidak Lulus</text>\n",
       "</g>\n",
       "<!-- 16&#45;&gt;26 -->\n",
       "<g id=\"edge26\" class=\"edge\">\n",
       "<title>16&#45;&gt;26</title>\n",
       "<path fill=\"none\" stroke=\"black\" d=\"M788.04,-460.91C803.32,-448.99 820.01,-435.98 835.21,-424.12\"/>\n",
       "<polygon fill=\"black\" stroke=\"black\" points=\"837.75,-426.58 843.48,-417.67 833.44,-421.06 837.75,-426.58\"/>\n",
       "</g>\n",
       "<!-- 18 -->\n",
       "<g id=\"node19\" class=\"node\">\n",
       "<title>18</title>\n",
       "<path fill=\"#e78c49\" stroke=\"black\" d=\"M790,-306C790,-306 682,-306 682,-306 676,-306 670,-300 670,-294 670,-294 670,-235 670,-235 670,-229 676,-223 682,-223 682,-223 790,-223 790,-223 796,-223 802,-229 802,-235 802,-235 802,-294 802,-294 802,-300 796,-306 790,-306\"/>\n",
       "<text text-anchor=\"start\" x=\"698\" y=\"-290.8\" font-family=\"Helvetica,sans-Serif\" font-size=\"14.00\">UTS ≤ 65.35</text>\n",
       "<text text-anchor=\"start\" x=\"688.5\" y=\"-275.8\" font-family=\"Helvetica,sans-Serif\" font-size=\"14.00\">entropy = 0.391</text>\n",
       "<text text-anchor=\"start\" x=\"695\" y=\"-260.8\" font-family=\"Helvetica,sans-Serif\" font-size=\"14.00\">samples = 13</text>\n",
       "<text text-anchor=\"start\" x=\"693\" y=\"-245.8\" font-family=\"Helvetica,sans-Serif\" font-size=\"14.00\">value = [12, 1]</text>\n",
       "<text text-anchor=\"start\" x=\"678\" y=\"-230.8\" font-family=\"Helvetica,sans-Serif\" font-size=\"14.00\">class = Tidak Lulus</text>\n",
       "</g>\n",
       "<!-- 17&#45;&gt;18 -->\n",
       "<g id=\"edge18\" class=\"edge\">\n",
       "<title>17&#45;&gt;18</title>\n",
       "<path fill=\"none\" stroke=\"black\" d=\"M736,-341.91C736,-333.65 736,-324.86 736,-316.3\"/>\n",
       "<polygon fill=\"black\" stroke=\"black\" points=\"739.5,-316.02 736,-306.02 732.5,-316.02 739.5,-316.02\"/>\n",
       "</g>\n",
       "<!-- 23 -->\n",
       "<g id=\"node24\" class=\"node\">\n",
       "<title>23</title>\n",
       "<path fill=\"#ffffff\" stroke=\"black\" d=\"M954,-306C954,-306 846,-306 846,-306 840,-306 834,-300 834,-294 834,-294 834,-235 834,-235 834,-229 840,-223 846,-223 846,-223 954,-223 954,-223 960,-223 966,-229 966,-235 966,-235 966,-294 966,-294 966,-300 960,-306 954,-306\"/>\n",
       "<text text-anchor=\"start\" x=\"845\" y=\"-290.8\" font-family=\"Helvetica,sans-Serif\" font-size=\"14.00\">quizonline ≤ 68.57</text>\n",
       "<text text-anchor=\"start\" x=\"860\" y=\"-275.8\" font-family=\"Helvetica,sans-Serif\" font-size=\"14.00\">entropy = 1.0</text>\n",
       "<text text-anchor=\"start\" x=\"862.5\" y=\"-260.8\" font-family=\"Helvetica,sans-Serif\" font-size=\"14.00\">samples = 2</text>\n",
       "<text text-anchor=\"start\" x=\"860.5\" y=\"-245.8\" font-family=\"Helvetica,sans-Serif\" font-size=\"14.00\">value = [1, 1]</text>\n",
       "<text text-anchor=\"start\" x=\"842\" y=\"-230.8\" font-family=\"Helvetica,sans-Serif\" font-size=\"14.00\">class = Tidak Lulus</text>\n",
       "</g>\n",
       "<!-- 17&#45;&gt;23 -->\n",
       "<g id=\"edge23\" class=\"edge\">\n",
       "<title>17&#45;&gt;23</title>\n",
       "<path fill=\"none\" stroke=\"black\" d=\"M792.9,-341.91C806.38,-332.29 820.87,-321.95 834.69,-312.09\"/>\n",
       "<polygon fill=\"black\" stroke=\"black\" points=\"837.09,-314.68 843.2,-306.02 833.03,-308.98 837.09,-314.68\"/>\n",
       "</g>\n",
       "<!-- 19 -->\n",
       "<g id=\"node20\" class=\"node\">\n",
       "<title>19</title>\n",
       "<path fill=\"#eeab7b\" stroke=\"black\" d=\"M672,-187C672,-187 564,-187 564,-187 558,-187 552,-181 552,-175 552,-175 552,-116 552,-116 552,-110 558,-104 564,-104 564,-104 672,-104 672,-104 678,-104 684,-110 684,-116 684,-116 684,-175 684,-175 684,-181 678,-187 672,-187\"/>\n",
       "<text text-anchor=\"start\" x=\"580\" y=\"-171.8\" font-family=\"Helvetica,sans-Serif\" font-size=\"14.00\">UTS ≤ 63.75</text>\n",
       "<text text-anchor=\"start\" x=\"571\" y=\"-156.8\" font-family=\"Helvetica,sans-Serif\" font-size=\"14.00\">entropy = 0.811</text>\n",
       "<text text-anchor=\"start\" x=\"580.5\" y=\"-141.8\" font-family=\"Helvetica,sans-Serif\" font-size=\"14.00\">samples = 4</text>\n",
       "<text text-anchor=\"start\" x=\"578.5\" y=\"-126.8\" font-family=\"Helvetica,sans-Serif\" font-size=\"14.00\">value = [3, 1]</text>\n",
       "<text text-anchor=\"start\" x=\"560\" y=\"-111.8\" font-family=\"Helvetica,sans-Serif\" font-size=\"14.00\">class = Tidak Lulus</text>\n",
       "</g>\n",
       "<!-- 18&#45;&gt;19 -->\n",
       "<g id=\"edge19\" class=\"edge\">\n",
       "<title>18&#45;&gt;19</title>\n",
       "<path fill=\"none\" stroke=\"black\" d=\"M695.06,-222.91C685.72,-213.65 675.72,-203.73 666.12,-194.21\"/>\n",
       "<polygon fill=\"black\" stroke=\"black\" points=\"668.43,-191.58 658.87,-187.02 663.5,-196.55 668.43,-191.58\"/>\n",
       "</g>\n",
       "<!-- 22 -->\n",
       "<g id=\"node23\" class=\"node\">\n",
       "<title>22</title>\n",
       "<path fill=\"#e58139\" stroke=\"black\" d=\"M822,-179.5C822,-179.5 714,-179.5 714,-179.5 708,-179.5 702,-173.5 702,-167.5 702,-167.5 702,-123.5 702,-123.5 702,-117.5 708,-111.5 714,-111.5 714,-111.5 822,-111.5 822,-111.5 828,-111.5 834,-117.5 834,-123.5 834,-123.5 834,-167.5 834,-167.5 834,-173.5 828,-179.5 822,-179.5\"/>\n",
       "<text text-anchor=\"start\" x=\"728\" y=\"-164.3\" font-family=\"Helvetica,sans-Serif\" font-size=\"14.00\">entropy = 0.0</text>\n",
       "<text text-anchor=\"start\" x=\"730.5\" y=\"-149.3\" font-family=\"Helvetica,sans-Serif\" font-size=\"14.00\">samples = 9</text>\n",
       "<text text-anchor=\"start\" x=\"728.5\" y=\"-134.3\" font-family=\"Helvetica,sans-Serif\" font-size=\"14.00\">value = [9, 0]</text>\n",
       "<text text-anchor=\"start\" x=\"710\" y=\"-119.3\" font-family=\"Helvetica,sans-Serif\" font-size=\"14.00\">class = Tidak Lulus</text>\n",
       "</g>\n",
       "<!-- 18&#45;&gt;22 -->\n",
       "<g id=\"edge22\" class=\"edge\">\n",
       "<title>18&#45;&gt;22</title>\n",
       "<path fill=\"none\" stroke=\"black\" d=\"M747.1,-222.91C750.06,-212.09 753.26,-200.38 756.26,-189.44\"/>\n",
       "<polygon fill=\"black\" stroke=\"black\" points=\"759.67,-190.24 758.93,-179.67 752.91,-188.39 759.67,-190.24\"/>\n",
       "</g>\n",
       "<!-- 20 -->\n",
       "<g id=\"node21\" class=\"node\">\n",
       "<title>20</title>\n",
       "<path fill=\"#e58139\" stroke=\"black\" d=\"M606,-68C606,-68 498,-68 498,-68 492,-68 486,-62 486,-56 486,-56 486,-12 486,-12 486,-6 492,0 498,0 498,0 606,0 606,0 612,0 618,-6 618,-12 618,-12 618,-56 618,-56 618,-62 612,-68 606,-68\"/>\n",
       "<text text-anchor=\"start\" x=\"512\" y=\"-52.8\" font-family=\"Helvetica,sans-Serif\" font-size=\"14.00\">entropy = 0.0</text>\n",
       "<text text-anchor=\"start\" x=\"514.5\" y=\"-37.8\" font-family=\"Helvetica,sans-Serif\" font-size=\"14.00\">samples = 3</text>\n",
       "<text text-anchor=\"start\" x=\"512.5\" y=\"-22.8\" font-family=\"Helvetica,sans-Serif\" font-size=\"14.00\">value = [3, 0]</text>\n",
       "<text text-anchor=\"start\" x=\"494\" y=\"-7.8\" font-family=\"Helvetica,sans-Serif\" font-size=\"14.00\">class = Tidak Lulus</text>\n",
       "</g>\n",
       "<!-- 19&#45;&gt;20 -->\n",
       "<g id=\"edge20\" class=\"edge\">\n",
       "<title>19&#45;&gt;20</title>\n",
       "<path fill=\"none\" stroke=\"black\" d=\"M593.42,-103.73C588.15,-94.97 582.56,-85.7 577.26,-76.91\"/>\n",
       "<polygon fill=\"black\" stroke=\"black\" points=\"580.23,-75.06 572.07,-68.3 574.24,-78.67 580.23,-75.06\"/>\n",
       "</g>\n",
       "<!-- 21 -->\n",
       "<g id=\"node22\" class=\"node\">\n",
       "<title>21</title>\n",
       "<path fill=\"#399de5\" stroke=\"black\" d=\"M720,-68C720,-68 648,-68 648,-68 642,-68 636,-62 636,-56 636,-56 636,-12 636,-12 636,-6 642,0 648,0 648,0 720,0 720,0 726,0 732,-6 732,-12 732,-12 732,-56 732,-56 732,-62 726,-68 720,-68\"/>\n",
       "<text text-anchor=\"start\" x=\"644\" y=\"-52.8\" font-family=\"Helvetica,sans-Serif\" font-size=\"14.00\">entropy = 0.0</text>\n",
       "<text text-anchor=\"start\" x=\"646.5\" y=\"-37.8\" font-family=\"Helvetica,sans-Serif\" font-size=\"14.00\">samples = 1</text>\n",
       "<text text-anchor=\"start\" x=\"644.5\" y=\"-22.8\" font-family=\"Helvetica,sans-Serif\" font-size=\"14.00\">value = [0, 1]</text>\n",
       "<text text-anchor=\"start\" x=\"644.5\" y=\"-7.8\" font-family=\"Helvetica,sans-Serif\" font-size=\"14.00\">class = Lulus</text>\n",
       "</g>\n",
       "<!-- 19&#45;&gt;21 -->\n",
       "<g id=\"edge21\" class=\"edge\">\n",
       "<title>19&#45;&gt;21</title>\n",
       "<path fill=\"none\" stroke=\"black\" d=\"M642.58,-103.73C647.85,-94.97 653.44,-85.7 658.74,-76.91\"/>\n",
       "<polygon fill=\"black\" stroke=\"black\" points=\"661.76,-78.67 663.93,-68.3 655.77,-75.06 661.76,-78.67\"/>\n",
       "</g>\n",
       "<!-- 24 -->\n",
       "<g id=\"node25\" class=\"node\">\n",
       "<title>24</title>\n",
       "<path fill=\"#399de5\" stroke=\"black\" d=\"M936,-179.5C936,-179.5 864,-179.5 864,-179.5 858,-179.5 852,-173.5 852,-167.5 852,-167.5 852,-123.5 852,-123.5 852,-117.5 858,-111.5 864,-111.5 864,-111.5 936,-111.5 936,-111.5 942,-111.5 948,-117.5 948,-123.5 948,-123.5 948,-167.5 948,-167.5 948,-173.5 942,-179.5 936,-179.5\"/>\n",
       "<text text-anchor=\"start\" x=\"860\" y=\"-164.3\" font-family=\"Helvetica,sans-Serif\" font-size=\"14.00\">entropy = 0.0</text>\n",
       "<text text-anchor=\"start\" x=\"862.5\" y=\"-149.3\" font-family=\"Helvetica,sans-Serif\" font-size=\"14.00\">samples = 1</text>\n",
       "<text text-anchor=\"start\" x=\"860.5\" y=\"-134.3\" font-family=\"Helvetica,sans-Serif\" font-size=\"14.00\">value = [0, 1]</text>\n",
       "<text text-anchor=\"start\" x=\"860.5\" y=\"-119.3\" font-family=\"Helvetica,sans-Serif\" font-size=\"14.00\">class = Lulus</text>\n",
       "</g>\n",
       "<!-- 23&#45;&gt;24 -->\n",
       "<g id=\"edge24\" class=\"edge\">\n",
       "<title>23&#45;&gt;24</title>\n",
       "<path fill=\"none\" stroke=\"black\" d=\"M900,-222.91C900,-212.2 900,-200.62 900,-189.78\"/>\n",
       "<polygon fill=\"black\" stroke=\"black\" points=\"903.5,-189.67 900,-179.67 896.5,-189.67 903.5,-189.67\"/>\n",
       "</g>\n",
       "<!-- 25 -->\n",
       "<g id=\"node26\" class=\"node\">\n",
       "<title>25</title>\n",
       "<path fill=\"#e58139\" stroke=\"black\" d=\"M1086,-179.5C1086,-179.5 978,-179.5 978,-179.5 972,-179.5 966,-173.5 966,-167.5 966,-167.5 966,-123.5 966,-123.5 966,-117.5 972,-111.5 978,-111.5 978,-111.5 1086,-111.5 1086,-111.5 1092,-111.5 1098,-117.5 1098,-123.5 1098,-123.5 1098,-167.5 1098,-167.5 1098,-173.5 1092,-179.5 1086,-179.5\"/>\n",
       "<text text-anchor=\"start\" x=\"992\" y=\"-164.3\" font-family=\"Helvetica,sans-Serif\" font-size=\"14.00\">entropy = 0.0</text>\n",
       "<text text-anchor=\"start\" x=\"994.5\" y=\"-149.3\" font-family=\"Helvetica,sans-Serif\" font-size=\"14.00\">samples = 1</text>\n",
       "<text text-anchor=\"start\" x=\"992.5\" y=\"-134.3\" font-family=\"Helvetica,sans-Serif\" font-size=\"14.00\">value = [1, 0]</text>\n",
       "<text text-anchor=\"start\" x=\"974\" y=\"-119.3\" font-family=\"Helvetica,sans-Serif\" font-size=\"14.00\">class = Tidak Lulus</text>\n",
       "</g>\n",
       "<!-- 23&#45;&gt;25 -->\n",
       "<g id=\"edge25\" class=\"edge\">\n",
       "<title>23&#45;&gt;25</title>\n",
       "<path fill=\"none\" stroke=\"black\" d=\"M945.8,-222.91C959.12,-211.1 973.65,-198.22 986.93,-186.45\"/>\n",
       "<polygon fill=\"black\" stroke=\"black\" points=\"989.42,-188.92 994.58,-179.67 984.78,-183.68 989.42,-188.92\"/>\n",
       "</g>\n",
       "</g>\n",
       "</svg>\n"
      ],
      "text/plain": [
       "<graphviz.sources.Source at 0x1f97f825e50>"
      ]
     },
     "execution_count": 21,
     "metadata": {},
     "output_type": "execute_result"
    }
   ],
   "source": [
    "from sklearn.tree import export_text\n",
    "import graphviz\n",
    "from sklearn import tree\n",
    "\n",
    "rules = export_text(model, feature_names=X.columns.tolist())\n",
    "print(rules)\n",
    "\n",
    "# Cetak gambar aturan model\n",
    "df = tree.export_graphviz(model, out_file=None, \n",
    "                                feature_names=X.columns,  \n",
    "                                class_names=['Tidak Lulus', 'Lulus'],  \n",
    "                                filled=True, rounded=True,  \n",
    "                                special_characters=True)\n",
    "graph = graphviz.Source(df)\n",
    "graph.render('model_c50')  # Simpan gambar sebagai file \"model_c50.png\"\n",
    "graph"
   ]
  },
  {
   "cell_type": "code",
   "execution_count": 22,
   "id": "75876a22",
   "metadata": {},
   "outputs": [
    {
     "data": {
      "text/plain": [
       "['Graduation_Prediction.model']"
      ]
     },
     "execution_count": 22,
     "metadata": {},
     "output_type": "execute_result"
    }
   ],
   "source": [
    "joblib.dump((model), \"Graduation_Prediction.model\")"
   ]
  },
  {
   "cell_type": "code",
   "execution_count": 40,
   "id": "541cbfc9",
   "metadata": {},
   "outputs": [],
   "source": [
    "UTS = 0\n",
    "tugasonline = 90 \n",
    "quizonline = 70\n",
    "\n",
    "Data_Testing = [[UTS, tugasonline, quizonline]]"
   ]
  },
  {
   "cell_type": "code",
   "execution_count": 41,
   "id": "e28c2e20",
   "metadata": {},
   "outputs": [
    {
     "name": "stderr",
     "output_type": "stream",
     "text": [
      "C:\\Users\\Caren\\AppData\\Roaming\\Python\\Python39\\site-packages\\sklearn\\base.py:450: UserWarning: X does not have valid feature names, but DecisionTreeClassifier was fitted with feature names\n",
      "  warnings.warn(\n"
     ]
    }
   ],
   "source": [
    "y_pred = model.predict(Data_Testing)"
   ]
  },
  {
   "cell_type": "code",
   "execution_count": 42,
   "id": "f9f0808d",
   "metadata": {},
   "outputs": [
    {
     "name": "stdout",
     "output_type": "stream",
     "text": [
      "Hasil Prediksi Kelulusan Mahasiswa :  Tidak Lulus\n"
     ]
    }
   ],
   "source": [
    "if y_pred == 0:\n",
    "    hasil = \"Lulus\"\n",
    "elif y_pred == 1:\n",
    "    hasil = \"Tidak Lulus\"\n",
    "else: hasil = \"Error\"\n",
    "    \n",
    "print(\"Hasil Prediksi Kelulusan Mahasiswa : \", hasil)"
   ]
  },
  {
   "cell_type": "code",
   "execution_count": 43,
   "id": "acfd689d",
   "metadata": {},
   "outputs": [
    {
     "data": {
      "image/png": "[encoded data removed]",
      "text/plain": [
       "<Figure size 640x480 with 1 Axes>"
      ]
     },
     "metadata": {},
     "output_type": "display_data"
    }
   ],
   "source": [
    "import seaborn as sns\n",
    "import matplotlib.pyplot as plt\n",
    "\n",
    "# Membuat list nama tugas dan nilai\n",
    "assignments = ['UTS', 'Tugas Online', 'Quiz Online']\n",
    "scores = [UTS, tugasonline, quizonline]\n",
    "\n",
    "# Membuat plot menggunakan seaborn\n",
    "sns.barplot(x=assignments, y=scores)\n",
    "\n",
    "# Memberikan label pada sumbu x\n",
    "plt.xlabel('Atribut')\n",
    "\n",
    "# Memberikan label pada sumbu y\n",
    "plt.ylabel('Nilai')\n",
    "\n",
    "# Menampilkan plot\n",
    "plt.show()\n"
   ]
  },
  {
   "cell_type": "code",
   "execution_count": 47,
   "id": "30c60205",
   "metadata": {},
   "outputs": [],
   "source": [
    "import pickle\n",
    "\n",
    "# Make pickle file of our model\n",
    "pickle.dump(model, open(\"model_2.pkl\", \"wb\"))"
   ]
  }
 ],
 "metadata": {
  "kernelspec": {
   "display_name": "Python 3 (ipykernel)",
   "language": "python",
   "name": "python3"
  },
  "language_info": {
   "codemirror_mode": {
    "name": "ipython",
    "version": 3
   },
   "file_extension": ".py",
   "mimetype": "text/x-python",
   "name": "python",
   "nbconvert_exporter": "python",
   "pygments_lexer": "ipython3",
   "version": "3.9.13"
  }
 },
 "nbformat": 4,
 "nbformat_minor": 5
}
